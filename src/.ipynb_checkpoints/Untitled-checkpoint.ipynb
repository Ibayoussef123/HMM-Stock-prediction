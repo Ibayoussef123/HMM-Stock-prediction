{
 "cells": [
  {
   "cell_type": "code",
   "execution_count": 1,
   "id": "11ff6849",
   "metadata": {},
   "outputs": [],
   "source": [
    "from utils import *\n",
    "from matplotlib import pyplot as plt"
   ]
  },
  {
   "cell_type": "code",
   "execution_count": 2,
   "id": "d490ed8a",
   "metadata": {},
   "outputs": [
    {
     "ename": "NameError",
     "evalue": "name 'get_stock_prices' is not defined",
     "output_type": "error",
     "traceback": [
      "\u001b[1;31m---------------------------------------------------------------------------\u001b[0m",
      "\u001b[1;31mNameError\u001b[0m                                 Traceback (most recent call last)",
      "Cell \u001b[1;32mIn[2], line 6\u001b[0m\n\u001b[0;32m      3\u001b[0m start_date \u001b[38;5;241m=\u001b[39m \u001b[38;5;124m\"\u001b[39m\u001b[38;5;124m2018-01-01\u001b[39m\u001b[38;5;124m\"\u001b[39m\n\u001b[0;32m      4\u001b[0m end_date \u001b[38;5;241m=\u001b[39m \u001b[38;5;124m\"\u001b[39m\u001b[38;5;124m2022-01-01\u001b[39m\u001b[38;5;124m\"\u001b[39m\n\u001b[1;32m----> 6\u001b[0m stock_prices \u001b[38;5;241m=\u001b[39m get_stock_prices(company_symbol, start_date, end_date)\n\u001b[0;32m      7\u001b[0m price_movements \u001b[38;5;241m=\u001b[39m get_price_movements(stock_prices)\n",
      "\u001b[1;31mNameError\u001b[0m: name 'get_stock_prices' is not defined"
     ]
    }
   ],
   "source": [
    "# Get stock prices and price movements\n",
    "company_symbol = \"AAPL\"\n",
    "start_date = \"2018-01-01\"\n",
    "end_date = \"2022-01-01\"\n",
    "\n",
    "stock_prices = get_stock_prices(company_symbol, start_date, end_date)\n",
    "price_movements = get_price_movements(stock_prices)"
   ]
  },
  {
   "cell_type": "code",
   "execution_count": null,
   "id": "c4839839",
   "metadata": {},
   "outputs": [],
   "source": [
    "# plot the stock prices and price movements\n",
    "plt.figure(figsize=(7, 6))\n",
    "plt.title(\"Stock prices\")\n",
    "plt.xlabel(\"Time\")\n",
    "plt.ylabel(\"Price\")\n",
    "plt.plot(stock_prices)\n",
    "\n",
    "plt.show()"
   ]
  },
  {
   "cell_type": "code",
   "execution_count": null,
   "id": "f6de1068",
   "metadata": {},
   "outputs": [],
   "source": [
    "# Train HMM model\n",
    "n_states = 2\n",
    "iterations = 1000\n",
    "\n",
    "pi, A, O = baum_welch([price_movements], n_states, iterations=iterations)"
   ]
  },
  {
   "cell_type": "code",
   "execution_count": null,
   "id": "cb14c009",
   "metadata": {},
   "outputs": [],
   "source": [
    "# Get new observation sequence\n",
    "obs_sequence = get_price_movements(get_stock_prices(company_symbol, \"2022-01-01\", \"2022-01-31\"))"
   ]
  },
  {
   "cell_type": "code",
   "execution_count": null,
   "id": "77a34907",
   "metadata": {},
   "outputs": [],
   "source": [
    "# Calculate sequence probability\n",
    "alpha, seq_probability = forward(pi, A, O, obs_sequence)\n",
    "print(f\"Probability of the given sequence of observations: {seq_probability}\")"
   ]
  },
  {
   "cell_type": "code",
   "execution_count": null,
   "id": "b5acafa2",
   "metadata": {},
   "outputs": [],
   "source": [
    "# Predict the most likely hidden states\n",
    "delta, psi = viterbi(n_states, pi, A, O, obs_sequence)\n",
    "\n",
    "# The most probable state sequence.\n",
    "state_sequence = np.zeros(len(obs_sequence), dtype=np.int32)\n",
    "state_sequence[-1] = np.argmax(delta[:, -1])\n",
    "for t in range(len(obs_sequence) - 2, -1, -1):\n",
    "    state_sequence[t] = psi[int(state_sequence[t+1]), t+1]\n",
    "\n",
    "print(f\"Most likely states: {state_sequence}\")"
   ]
  },
  {
   "cell_type": "code",
   "execution_count": null,
   "id": "d3276b27",
   "metadata": {},
   "outputs": [],
   "source": [
    "# get next month's stock prices\n",
    "next_month_prices = get_stock_prices(company_symbol, \"2022-02-01\", \"2022-02-28\")\n",
    "next_month_movements = get_price_movements(next_month_prices)"
   ]
  },
  {
   "cell_type": "code",
   "execution_count": null,
   "id": "8ccfe48a",
   "metadata": {},
   "outputs": [],
   "source": [
    "# Get current state as the last state from the training data\n",
    "current_state = state_sequence[-1]\n",
    "\n",
    "# predict as much steps as there are observations in the future\n",
    "n_steps = len(next_month_prices)"
   ]
  },
  {
   "cell_type": "code",
   "execution_count": null,
   "id": "b280c816",
   "metadata": {},
   "outputs": [],
   "source": [
    "# Generate future states and observations\n",
    "future_states = generate_future_states(n_states, A, current_state, n_steps)\n",
    "future_observations = generate_future_observations(future_states, O)"
   ]
  },
  {
   "cell_type": "code",
   "execution_count": 1,
   "id": "ff5e1952",
   "metadata": {},
   "outputs": [
    {
     "ename": "NameError",
     "evalue": "name 'get_accuracy' is not defined",
     "output_type": "error",
     "traceback": [
      "\u001b[1;31m---------------------------------------------------------------------------\u001b[0m",
      "\u001b[1;31mNameError\u001b[0m                                 Traceback (most recent call last)",
      "Cell \u001b[1;32mIn[1], line 1\u001b[0m\n\u001b[1;32m----> 1\u001b[0m accuracy \u001b[38;5;241m=\u001b[39m get_accuracy(next_month_movements, future_observations)\n\u001b[0;32m      2\u001b[0m \u001b[38;5;28mprint\u001b[39m(\u001b[38;5;124mf\u001b[39m\u001b[38;5;124m\"\u001b[39m\u001b[38;5;124mAccuracy of the prediction: \u001b[39m\u001b[38;5;132;01m{\u001b[39;00maccuracy\u001b[38;5;250m \u001b[39m\u001b[38;5;241m*\u001b[39m\u001b[38;5;250m \u001b[39m\u001b[38;5;241m100\u001b[39m\u001b[38;5;132;01m:\u001b[39;00m\u001b[38;5;124m.2f\u001b[39m\u001b[38;5;132;01m}\u001b[39;00m\u001b[38;5;124m%\u001b[39m\u001b[38;5;124m\"\u001b[39m)\n",
      "\u001b[1;31mNameError\u001b[0m: name 'get_accuracy' is not defined"
     ]
    }
   ],
   "source": [
    "accuracy = get_accuracy(next_month_movements, future_observations)\n",
    "print(f\"Accuracy of the prediction: {accuracy * 100:.2f}%\")"
   ]
  }
 ],
 "metadata": {
  "kernelspec": {
   "display_name": "Python 3 (ipykernel)",
   "language": "python",
   "name": "python3"
  },
  "language_info": {
   "codemirror_mode": {
    "name": "ipython",
    "version": 3
   },
   "file_extension": ".py",
   "mimetype": "text/x-python",
   "name": "python",
   "nbconvert_exporter": "python",
   "pygments_lexer": "ipython3",
   "version": "3.11.4"
  }
 },
 "nbformat": 4,
 "nbformat_minor": 5
}
